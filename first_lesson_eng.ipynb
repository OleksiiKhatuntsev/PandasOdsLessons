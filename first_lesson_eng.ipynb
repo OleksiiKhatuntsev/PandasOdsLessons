{
 "cells": [
  {
   "cell_type": "code",
   "execution_count": 1,
   "id": "f682f44c",
   "metadata": {},
   "outputs": [],
   "source": [
    "import numpy as np\n",
    "import pandas as pd\n",
    "from matplotlib import pyplot as plt\n",
    "\n",
    "# Graphics in SVG format are more sharp and legible\n",
    "%config InlineBackend.figure_format = 'svg'\n",
    "pd.set_option(\"display.precision\", 2)"
   ]
  },
  {
   "cell_type": "code",
   "execution_count": 2,
   "id": "989340f2",
   "metadata": {},
   "outputs": [],
   "source": [
    "data = pd.read_csv(\"titanic_train.csv\", index_col=\"PassengerId\")"
   ]
  },
  {
   "cell_type": "code",
   "execution_count": 27,
   "id": "fc4ac1f5",
   "metadata": {},
   "outputs": [
    {
     "data": {
      "text/html": [
       "<div>\n",
       "<style scoped>\n",
       "    .dataframe tbody tr th:only-of-type {\n",
       "        vertical-align: middle;\n",
       "    }\n",
       "\n",
       "    .dataframe tbody tr th {\n",
       "        vertical-align: top;\n",
       "    }\n",
       "\n",
       "    .dataframe thead th {\n",
       "        text-align: right;\n",
       "    }\n",
       "</style>\n",
       "<table border=\"1\" class=\"dataframe\">\n",
       "  <thead>\n",
       "    <tr style=\"text-align: right;\">\n",
       "      <th></th>\n",
       "      <th>Survived</th>\n",
       "      <th>Pclass</th>\n",
       "      <th>Name</th>\n",
       "      <th>Sex</th>\n",
       "      <th>Age</th>\n",
       "      <th>SibSp</th>\n",
       "      <th>Parch</th>\n",
       "      <th>Ticket</th>\n",
       "      <th>Fare</th>\n",
       "      <th>Cabin</th>\n",
       "      <th>Embarked</th>\n",
       "      <th>Age_category</th>\n",
       "      <th>Age_category_forty</th>\n",
       "    </tr>\n",
       "    <tr>\n",
       "      <th>PassengerId</th>\n",
       "      <th></th>\n",
       "      <th></th>\n",
       "      <th></th>\n",
       "      <th></th>\n",
       "      <th></th>\n",
       "      <th></th>\n",
       "      <th></th>\n",
       "      <th></th>\n",
       "      <th></th>\n",
       "      <th></th>\n",
       "      <th></th>\n",
       "      <th></th>\n",
       "      <th></th>\n",
       "    </tr>\n",
       "  </thead>\n",
       "  <tbody>\n",
       "    <tr>\n",
       "      <th>1</th>\n",
       "      <td>0</td>\n",
       "      <td>3</td>\n",
       "      <td>Braund, Mr. Owen Harris</td>\n",
       "      <td>male</td>\n",
       "      <td>22.0</td>\n",
       "      <td>1</td>\n",
       "      <td>0</td>\n",
       "      <td>A/5 21171</td>\n",
       "      <td>7.25</td>\n",
       "      <td>NaN</td>\n",
       "      <td>S</td>\n",
       "      <td>1.0</td>\n",
       "      <td>1.0</td>\n",
       "    </tr>\n",
       "    <tr>\n",
       "      <th>2</th>\n",
       "      <td>1</td>\n",
       "      <td>1</td>\n",
       "      <td>Cumings, Mrs. John Bradley (Florence Briggs Th...</td>\n",
       "      <td>female</td>\n",
       "      <td>38.0</td>\n",
       "      <td>1</td>\n",
       "      <td>0</td>\n",
       "      <td>PC 17599</td>\n",
       "      <td>71.28</td>\n",
       "      <td>C85</td>\n",
       "      <td>C</td>\n",
       "      <td>2.0</td>\n",
       "      <td>1.0</td>\n",
       "    </tr>\n",
       "    <tr>\n",
       "      <th>3</th>\n",
       "      <td>1</td>\n",
       "      <td>3</td>\n",
       "      <td>Heikkinen, Miss. Laina</td>\n",
       "      <td>female</td>\n",
       "      <td>26.0</td>\n",
       "      <td>0</td>\n",
       "      <td>0</td>\n",
       "      <td>STON/O2. 3101282</td>\n",
       "      <td>7.92</td>\n",
       "      <td>NaN</td>\n",
       "      <td>S</td>\n",
       "      <td>1.0</td>\n",
       "      <td>1.0</td>\n",
       "    </tr>\n",
       "    <tr>\n",
       "      <th>4</th>\n",
       "      <td>1</td>\n",
       "      <td>1</td>\n",
       "      <td>Futrelle, Mrs. Jacques Heath (Lily May Peel)</td>\n",
       "      <td>female</td>\n",
       "      <td>35.0</td>\n",
       "      <td>1</td>\n",
       "      <td>0</td>\n",
       "      <td>113803</td>\n",
       "      <td>53.10</td>\n",
       "      <td>C123</td>\n",
       "      <td>S</td>\n",
       "      <td>2.0</td>\n",
       "      <td>1.0</td>\n",
       "    </tr>\n",
       "    <tr>\n",
       "      <th>5</th>\n",
       "      <td>0</td>\n",
       "      <td>3</td>\n",
       "      <td>Allen, Mr. William Henry</td>\n",
       "      <td>male</td>\n",
       "      <td>35.0</td>\n",
       "      <td>0</td>\n",
       "      <td>0</td>\n",
       "      <td>373450</td>\n",
       "      <td>8.05</td>\n",
       "      <td>NaN</td>\n",
       "      <td>S</td>\n",
       "      <td>2.0</td>\n",
       "      <td>1.0</td>\n",
       "    </tr>\n",
       "  </tbody>\n",
       "</table>\n",
       "</div>"
      ],
      "text/plain": [
       "             Survived  Pclass  \\\n",
       "PassengerId                     \n",
       "1                   0       3   \n",
       "2                   1       1   \n",
       "3                   1       3   \n",
       "4                   1       1   \n",
       "5                   0       3   \n",
       "\n",
       "                                                          Name     Sex   Age  \\\n",
       "PassengerId                                                                    \n",
       "1                                      Braund, Mr. Owen Harris    male  22.0   \n",
       "2            Cumings, Mrs. John Bradley (Florence Briggs Th...  female  38.0   \n",
       "3                                       Heikkinen, Miss. Laina  female  26.0   \n",
       "4                 Futrelle, Mrs. Jacques Heath (Lily May Peel)  female  35.0   \n",
       "5                                     Allen, Mr. William Henry    male  35.0   \n",
       "\n",
       "             SibSp  Parch            Ticket   Fare Cabin Embarked  \\\n",
       "PassengerId                                                         \n",
       "1                1      0         A/5 21171   7.25   NaN        S   \n",
       "2                1      0          PC 17599  71.28   C85        C   \n",
       "3                0      0  STON/O2. 3101282   7.92   NaN        S   \n",
       "4                1      0            113803  53.10  C123        S   \n",
       "5                0      0            373450   8.05   NaN        S   \n",
       "\n",
       "             Age_category  Age_category_forty  \n",
       "PassengerId                                    \n",
       "1                     1.0                 1.0  \n",
       "2                     2.0                 1.0  \n",
       "3                     1.0                 1.0  \n",
       "4                     2.0                 1.0  \n",
       "5                     2.0                 1.0  "
      ]
     },
     "execution_count": 27,
     "metadata": {},
     "output_type": "execute_result"
    }
   ],
   "source": [
    "data.head(5)"
   ]
  },
  {
   "cell_type": "code",
   "execution_count": 4,
   "id": "76e8ef81",
   "metadata": {},
   "outputs": [],
   "source": [
    "def age_category(age):\n",
    "    \"\"\"\n",
    "    < 30 -> 1\n",
    "    >= 30, <55 -> 2\n",
    "    >= 55 -> 3\n",
    "    \"\"\"\n",
    "    if age < 30:\n",
    "        return 1\n",
    "    elif age <= 60:\n",
    "        return 2\n",
    "    elif age > 60:\n",
    "        return 3\n"
   ]
  },
  {
   "cell_type": "code",
   "execution_count": 5,
   "id": "a9616821",
   "metadata": {},
   "outputs": [],
   "source": [
    "def age_category_forty(age):\n",
    "    \"\"\"\n",
    "    < 30 -> 1\n",
    "    >= 30, <55 -> 2\n",
    "    >= 55 -> 3\n",
    "    \"\"\"\n",
    "    if age <= 40:\n",
    "        return 1\n",
    "    elif age > 40:\n",
    "        return 2"
   ]
  },
  {
   "cell_type": "code",
   "execution_count": 6,
   "id": "347298bb",
   "metadata": {},
   "outputs": [],
   "source": [
    "age_categories = [age_category(age) for age in data.Age]\n",
    "age_categories_forty = [age_category_forty(age) for age in data.Age]\n",
    "data[\"Age_category\"] = age_categories\n",
    "data[\"Age_category_forty\"] = age_categories_forty"
   ]
  },
  {
   "cell_type": "markdown",
   "id": "caf96ba4",
   "metadata": {},
   "source": [
    "1. How many men/women were there onboard?"
   ]
  },
  {
   "cell_type": "code",
   "execution_count": 7,
   "id": "253085e4",
   "metadata": {},
   "outputs": [
    {
     "data": {
      "text/plain": [
       "'male = 577'"
      ]
     },
     "execution_count": 7,
     "metadata": {},
     "output_type": "execute_result"
    }
   ],
   "source": [
    "f\"male = {data[data['Sex'] == 'male']['Name'].count()}\""
   ]
  },
  {
   "cell_type": "code",
   "execution_count": 8,
   "id": "087c477b",
   "metadata": {},
   "outputs": [
    {
     "data": {
      "text/plain": [
       "'female = 314'"
      ]
     },
     "execution_count": 8,
     "metadata": {},
     "output_type": "execute_result"
    }
   ],
   "source": [
    "f\"female = {data[data['Sex'] == 'female']['Name'].count()}\""
   ]
  },
  {
   "cell_type": "code",
   "execution_count": 9,
   "id": "5b4d0cc9",
   "metadata": {},
   "outputs": [
    {
     "data": {
      "text/plain": [
       "'female 314'"
      ]
     },
     "execution_count": 9,
     "metadata": {},
     "output_type": "execute_result"
    }
   ],
   "source": [
    "f\"female {data.groupby('Sex').count().iloc[0,0]}\""
   ]
  },
  {
   "cell_type": "code",
   "execution_count": 10,
   "id": "0002f17a",
   "metadata": {},
   "outputs": [
    {
     "data": {
      "text/plain": [
       "'male 577'"
      ]
     },
     "execution_count": 10,
     "metadata": {},
     "output_type": "execute_result"
    }
   ],
   "source": [
    "f\"male {data.groupby('Sex').count().iloc[1,0]}\""
   ]
  },
  {
   "cell_type": "markdown",
   "id": "7f7b5081",
   "metadata": {},
   "source": [
    "2. Print the distribution of the Pclass feature. Then the same, but for men and women separately. How many men from second class were there onboard?"
   ]
  },
  {
   "cell_type": "code",
   "execution_count": 11,
   "id": "a5a19ea4",
   "metadata": {},
   "outputs": [
    {
     "data": {
      "text/plain": [
       "Pclass\n",
       "1    216\n",
       "2    184\n",
       "3    491\n",
       "Name: Name, dtype: int64"
      ]
     },
     "execution_count": 11,
     "metadata": {},
     "output_type": "execute_result"
    }
   ],
   "source": [
    "data.groupby('Pclass')['Name'].count()"
   ]
  },
  {
   "cell_type": "code",
   "execution_count": 12,
   "id": "a0b3b854",
   "metadata": {},
   "outputs": [
    {
     "data": {
      "text/plain": [
       "108"
      ]
     },
     "execution_count": 12,
     "metadata": {},
     "output_type": "execute_result"
    }
   ],
   "source": [
    "data.groupby(['Pclass', 'Sex']).count().iloc[3, 0]"
   ]
  },
  {
   "cell_type": "markdown",
   "id": "b2e1f9e9",
   "metadata": {},
   "source": [
    "3. What are median and standard deviation of Fare?. Round to two decimals."
   ]
  },
  {
   "cell_type": "code",
   "execution_count": 13,
   "id": "a81f8a65",
   "metadata": {},
   "outputs": [
    {
     "data": {
      "text/html": [
       "<div>\n",
       "<style scoped>\n",
       "    .dataframe tbody tr th:only-of-type {\n",
       "        vertical-align: middle;\n",
       "    }\n",
       "\n",
       "    .dataframe tbody tr th {\n",
       "        vertical-align: top;\n",
       "    }\n",
       "\n",
       "    .dataframe thead th {\n",
       "        text-align: right;\n",
       "    }\n",
       "</style>\n",
       "<table border=\"1\" class=\"dataframe\">\n",
       "  <thead>\n",
       "    <tr style=\"text-align: right;\">\n",
       "      <th></th>\n",
       "      <th>Survived</th>\n",
       "      <th>Pclass</th>\n",
       "      <th>Age</th>\n",
       "      <th>SibSp</th>\n",
       "      <th>Parch</th>\n",
       "      <th>Fare</th>\n",
       "      <th>Age_category</th>\n",
       "      <th>Age_category_forty</th>\n",
       "    </tr>\n",
       "  </thead>\n",
       "  <tbody>\n",
       "    <tr>\n",
       "      <th>count</th>\n",
       "      <td>891.00</td>\n",
       "      <td>891.00</td>\n",
       "      <td>714.00</td>\n",
       "      <td>891.00</td>\n",
       "      <td>891.00</td>\n",
       "      <td>891.00</td>\n",
       "      <td>714.00</td>\n",
       "      <td>714.00</td>\n",
       "    </tr>\n",
       "    <tr>\n",
       "      <th>mean</th>\n",
       "      <td>0.38</td>\n",
       "      <td>2.31</td>\n",
       "      <td>29.70</td>\n",
       "      <td>0.52</td>\n",
       "      <td>0.38</td>\n",
       "      <td>32.20</td>\n",
       "      <td>1.49</td>\n",
       "      <td>1.21</td>\n",
       "    </tr>\n",
       "    <tr>\n",
       "      <th>std</th>\n",
       "      <td>0.49</td>\n",
       "      <td>0.84</td>\n",
       "      <td>14.53</td>\n",
       "      <td>1.10</td>\n",
       "      <td>0.81</td>\n",
       "      <td>49.69</td>\n",
       "      <td>0.56</td>\n",
       "      <td>0.41</td>\n",
       "    </tr>\n",
       "    <tr>\n",
       "      <th>min</th>\n",
       "      <td>0.00</td>\n",
       "      <td>1.00</td>\n",
       "      <td>0.42</td>\n",
       "      <td>0.00</td>\n",
       "      <td>0.00</td>\n",
       "      <td>0.00</td>\n",
       "      <td>1.00</td>\n",
       "      <td>1.00</td>\n",
       "    </tr>\n",
       "    <tr>\n",
       "      <th>25%</th>\n",
       "      <td>0.00</td>\n",
       "      <td>2.00</td>\n",
       "      <td>20.12</td>\n",
       "      <td>0.00</td>\n",
       "      <td>0.00</td>\n",
       "      <td>7.91</td>\n",
       "      <td>1.00</td>\n",
       "      <td>1.00</td>\n",
       "    </tr>\n",
       "    <tr>\n",
       "      <th>50%</th>\n",
       "      <td>0.00</td>\n",
       "      <td>3.00</td>\n",
       "      <td>28.00</td>\n",
       "      <td>0.00</td>\n",
       "      <td>0.00</td>\n",
       "      <td>14.45</td>\n",
       "      <td>1.00</td>\n",
       "      <td>1.00</td>\n",
       "    </tr>\n",
       "    <tr>\n",
       "      <th>75%</th>\n",
       "      <td>1.00</td>\n",
       "      <td>3.00</td>\n",
       "      <td>38.00</td>\n",
       "      <td>1.00</td>\n",
       "      <td>0.00</td>\n",
       "      <td>31.00</td>\n",
       "      <td>2.00</td>\n",
       "      <td>1.00</td>\n",
       "    </tr>\n",
       "    <tr>\n",
       "      <th>max</th>\n",
       "      <td>1.00</td>\n",
       "      <td>3.00</td>\n",
       "      <td>80.00</td>\n",
       "      <td>8.00</td>\n",
       "      <td>6.00</td>\n",
       "      <td>512.33</td>\n",
       "      <td>3.00</td>\n",
       "      <td>2.00</td>\n",
       "    </tr>\n",
       "  </tbody>\n",
       "</table>\n",
       "</div>"
      ],
      "text/plain": [
       "       Survived  Pclass     Age   SibSp   Parch    Fare  Age_category  \\\n",
       "count    891.00  891.00  714.00  891.00  891.00  891.00        714.00   \n",
       "mean       0.38    2.31   29.70    0.52    0.38   32.20          1.49   \n",
       "std        0.49    0.84   14.53    1.10    0.81   49.69          0.56   \n",
       "min        0.00    1.00    0.42    0.00    0.00    0.00          1.00   \n",
       "25%        0.00    2.00   20.12    0.00    0.00    7.91          1.00   \n",
       "50%        0.00    3.00   28.00    0.00    0.00   14.45          1.00   \n",
       "75%        1.00    3.00   38.00    1.00    0.00   31.00          2.00   \n",
       "max        1.00    3.00   80.00    8.00    6.00  512.33          3.00   \n",
       "\n",
       "       Age_category_forty  \n",
       "count              714.00  \n",
       "mean                 1.21  \n",
       "std                  0.41  \n",
       "min                  1.00  \n",
       "25%                  1.00  \n",
       "50%                  1.00  \n",
       "75%                  1.00  \n",
       "max                  2.00  "
      ]
     },
     "execution_count": 13,
     "metadata": {},
     "output_type": "execute_result"
    }
   ],
   "source": [
    "data.describe()"
   ]
  },
  {
   "cell_type": "code",
   "execution_count": 14,
   "id": "32e9e3b1",
   "metadata": {},
   "outputs": [
    {
     "data": {
      "text/plain": [
       "'std - 49.6934285971809'"
      ]
     },
     "execution_count": 14,
     "metadata": {},
     "output_type": "execute_result"
    }
   ],
   "source": [
    "f\"std - {data['Fare'].std()}\""
   ]
  },
  {
   "cell_type": "code",
   "execution_count": 15,
   "id": "dc84ff9c",
   "metadata": {},
   "outputs": [
    {
     "data": {
      "text/plain": [
       "'median - 14.4542'"
      ]
     },
     "execution_count": 15,
     "metadata": {},
     "output_type": "execute_result"
    }
   ],
   "source": [
    "f\"median - {data['Fare'].median()}\""
   ]
  },
  {
   "cell_type": "markdown",
   "id": "1026d795",
   "metadata": {},
   "source": [
    "4. Is that true that the mean age of survived people is higher than that of passengers who eventually died?"
   ]
  },
  {
   "cell_type": "code",
   "execution_count": 16,
   "id": "8abc8176",
   "metadata": {},
   "outputs": [
    {
     "data": {
      "text/plain": [
       "'groupby - False'"
      ]
     },
     "execution_count": 16,
     "metadata": {},
     "output_type": "execute_result"
    }
   ],
   "source": [
    "not_survived_mean_age = data.groupby('Survived')['Age'].mean().iloc[0]\n",
    "survived_mean_age = data.groupby('Survived')['Age'].mean().iloc[1]\n",
    "\n",
    "f\"groupby - {survived_mean_age > not_survived_mean_age}\""
   ]
  },
  {
   "cell_type": "code",
   "execution_count": 17,
   "id": "ba3570d1",
   "metadata": {},
   "outputs": [
    {
     "data": {
      "text/plain": [
       "'index - False'"
      ]
     },
     "execution_count": 17,
     "metadata": {},
     "output_type": "execute_result"
    }
   ],
   "source": [
    "not_survived_mean_age = data[data['Survived'] == 0]['Age'].mean()\n",
    "survived_mean_age = data[data['Survived'] == 1]['Age'].mean()\n",
    "\n",
    "f\"index - {survived_mean_age > not_survived_mean_age}\""
   ]
  },
  {
   "cell_type": "markdown",
   "id": "91b3502e",
   "metadata": {},
   "source": [
    "5. Is that true that passengers younger than 30 y.o. survived more frequently than those older than 60 y.o.? What are shares of survived people among young and old people?"
   ]
  },
  {
   "cell_type": "code",
   "execution_count": 18,
   "id": "8efaa22d",
   "metadata": {},
   "outputs": [
    {
     "name": "stdout",
     "output_type": "stream",
     "text": [
      "1.0\n",
      "40.6\n",
      "2.0\n",
      "41.9\n",
      "3.0\n",
      "22.7\n"
     ]
    }
   ],
   "source": [
    "survived_age_frequency = data.groupby('Age_category')\n",
    "for age_cat, sub_df in survived_age_frequency:\n",
    "    print(age_cat)\n",
    "    print((sub_df[sub_df['Survived'] == 1]['Survived'].count()/sub_df['Survived'].count()).round(3)*100)"
   ]
  },
  {
   "cell_type": "markdown",
   "id": "35954f29",
   "metadata": {},
   "source": [
    "6. Is that true that women survived more frequently than men? What are shares of survived people among men and women?"
   ]
  },
  {
   "cell_type": "code",
   "execution_count": 19,
   "id": "2f1265ba",
   "metadata": {},
   "outputs": [
    {
     "name": "stdout",
     "output_type": "stream",
     "text": [
      "female\n",
      "74.2\n",
      "male\n",
      "18.9\n"
     ]
    }
   ],
   "source": [
    "survived_sex_frequency = data.groupby('Sex')\n",
    "for sex_cat, sub_df in survived_sex_frequency:\n",
    "    print(sex_cat)\n",
    "    print((sub_df[sub_df['Survived'] == 1]['Survived'].count()/sub_df['Survived'].count()).round(3)*100)"
   ]
  },
  {
   "cell_type": "markdown",
   "id": "cb6961f2",
   "metadata": {},
   "source": [
    "7. What's the most popular first name among male passengers?"
   ]
  },
  {
   "cell_type": "code",
   "execution_count": 20,
   "id": "bd725058",
   "metadata": {},
   "outputs": [
    {
     "data": {
      "text/plain": [
       "33"
      ]
     },
     "execution_count": 20,
     "metadata": {},
     "output_type": "execute_result"
    }
   ],
   "source": [
    "data.loc[(data.Name.str.contains('William ')) & (data.Sex == 'male')]['Survived'].count()"
   ]
  },
  {
   "cell_type": "code",
   "execution_count": 21,
   "id": "7cddd292",
   "metadata": {},
   "outputs": [
    {
     "data": {
      "text/plain": [
       "20"
      ]
     },
     "execution_count": 21,
     "metadata": {},
     "output_type": "execute_result"
    }
   ],
   "source": [
    "data.loc[(data.Name.str.contains('John ')) & (data.Sex == 'male')]['Survived'].count()"
   ]
  },
  {
   "cell_type": "code",
   "execution_count": 22,
   "id": "a9d605cc",
   "metadata": {},
   "outputs": [
    {
     "data": {
      "text/plain": [
       "11"
      ]
     },
     "execution_count": 22,
     "metadata": {},
     "output_type": "execute_result"
    }
   ],
   "source": [
    "data.loc[(data.Name.str.contains('Thomas ')) & (data.Sex == 'male')]['Survived'].count()"
   ]
  },
  {
   "cell_type": "code",
   "execution_count": 23,
   "id": "336c8fd5",
   "metadata": {},
   "outputs": [
    {
     "data": {
      "text/plain": [
       "13"
      ]
     },
     "execution_count": 23,
     "metadata": {},
     "output_type": "execute_result"
    }
   ],
   "source": [
    "data.loc[(data.Name.str.contains('Charles ')) & (data.Sex == 'male')]['Survived'].count()"
   ]
  },
  {
   "cell_type": "markdown",
   "id": "14060a4e",
   "metadata": {},
   "source": [
    "8. How is average age for men/women dependent on Pclass? Choose all correct statements:"
   ]
  },
  {
   "cell_type": "code",
   "execution_count": 36,
   "id": "472750fd",
   "metadata": {},
   "outputs": [],
   "source": [
    "group_by_pclass_and_sex = data.groupby(['Pclass', 'Sex'])"
   ]
  },
  {
   "cell_type": "markdown",
   "id": "4d895a94",
   "metadata": {},
   "source": [
    "On average, men of 1 class are older than 40,\n",
    "On average, women of 1 class are older than 40"
   ]
  },
  {
   "cell_type": "code",
   "execution_count": 49,
   "id": "752eb748",
   "metadata": {},
   "outputs": [
    {
     "name": "stdout",
     "output_type": "stream",
     "text": [
      "(1, 'female')\n",
      "young - 59\n",
      "old   - 26\n",
      "(1, 'male')\n",
      "young - 51\n",
      "old   - 50\n",
      "(2, 'female')\n",
      "young - 61\n",
      "old   - 13\n",
      "(2, 'male')\n",
      "young - 78\n",
      "old   - 21\n",
      "(3, 'female')\n",
      "young - 93\n",
      "old   - 9\n",
      "(3, 'male')\n",
      "young - 222\n",
      "old   - 31\n"
     ]
    }
   ],
   "source": [
    "for pclass_sex, sub_df in group_by_pclass_and_sex:\n",
    "    print(pclass_sex)\n",
    "    print(f\"young - {sub_df[sub_df['Age_category_forty'] == 1]['Survived'].count()}\")\n",
    "    print(f\"old   - {sub_df[sub_df['Age_category_forty'] == 2]['Survived'].count()}\")"
   ]
  },
  {
   "cell_type": "markdown",
   "id": "453f5ba8",
   "metadata": {},
   "source": [
    "Men of all classes are on average older than women of the same class"
   ]
  },
  {
   "cell_type": "code",
   "execution_count": 52,
   "id": "ffd4cc6d",
   "metadata": {},
   "outputs": [],
   "source": [
    "group_by_pclass = data.groupby('Pclass')"
   ]
  },
  {
   "cell_type": "code",
   "execution_count": 56,
   "id": "dcfe9ed9",
   "metadata": {},
   "outputs": [
    {
     "name": "stdout",
     "output_type": "stream",
     "text": [
      "1\n",
      "True\n",
      "2\n",
      "True\n",
      "3\n",
      "True\n"
     ]
    }
   ],
   "source": [
    "for pclass, sub_df in group_by_pclass:\n",
    "    print(pclass)\n",
    "    print(sub_df[(sub_df['Sex'] == 'male')]['Age'].mean() > sub_df[(sub_df['Sex'] == 'female')]['Age'].mean())"
   ]
  },
  {
   "cell_type": "code",
   "execution_count": null,
   "id": "6508397e",
   "metadata": {},
   "outputs": [],
   "source": []
  }
 ],
 "metadata": {
  "kernelspec": {
   "display_name": "Python 3 (ipykernel)",
   "language": "python",
   "name": "python3"
  },
  "language_info": {
   "codemirror_mode": {
    "name": "ipython",
    "version": 3
   },
   "file_extension": ".py",
   "mimetype": "text/x-python",
   "name": "python",
   "nbconvert_exporter": "python",
   "pygments_lexer": "ipython3",
   "version": "3.11.0"
  }
 },
 "nbformat": 4,
 "nbformat_minor": 5
}
